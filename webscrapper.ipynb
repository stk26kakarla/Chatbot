{
 "cells": [
  {
   "cell_type": "code",
   "execution_count": 1,
   "metadata": {},
   "outputs": [],
   "source": [
    "import requests\n",
    "from bs4 import BeautifulSoup\n",
    "from xml.dom import minidom\n",
    "from alive_progress import alive_bar\n",
    "import time\n",
    "import re"
   ]
  },
  {
   "cell_type": "code",
   "execution_count": 3,
   "metadata": {},
   "outputs": [
    {
     "name": "stdout",
     "output_type": "stream",
     "text": [
      "                                                                                \r"
     ]
    },
    {
     "name": "stderr",
     "output_type": "stream",
     "text": [
      "on 681: Some characters could not be decoded, and were replaced with REPLACEMENT CHARACTER.\n"
     ]
    },
    {
     "name": "stdout",
     "output_type": "stream",
     "text": [
      "|████████████████████████████████████████| 847/847 [100%] in 6:17.5 (2.24/s)    \n"
     ]
    }
   ],
   "source": [
    "siteMapXML = requests.get(\"https://www.shell.in/sitemap.xml\")\n",
    "f = open(\"siteMapXML.xml\", \"wb\")\n",
    "f.write(siteMapXML.content)\n",
    "f.close()\n",
    "\n",
    "file = minidom.parse(\"siteMapXML.xml\")\n",
    "models = file.getElementsByTagName(\"loc\")\n",
    "\n",
    "chatbotContent = \"\"\n",
    "with alive_bar(models.length, force_tty=True) as bar:  # declare your expected total\n",
    "    for elem in models:\n",
    "      webPage = requests.get(elem.firstChild.data)\n",
    "      soup = BeautifulSoup(webPage.content, \"html.parser\")\n",
    "      textElements = soup.select(\"main .page-header__body h1,main .page-header__body p, main .text-image__text, main .promo-list__text, main .base-list__section-content\")\n",
    "      for ele in textElements:\n",
    "        chatbotContent += ele.text\n",
    "      bar()\n",
    "f = open(\"chatbotContent.txt\", \"w\")\n",
    "f.write(re.sub(r\"\\s+\",\" \", chatbotContent.strip()))\n",
    "f.close()"
   ]
  }
 ],
 "metadata": {
  "kernelspec": {
   "display_name": "Python 3",
   "language": "python",
   "name": "python3"
  },
  "language_info": {
   "codemirror_mode": {
    "name": "ipython",
    "version": 3
   },
   "file_extension": ".py",
   "mimetype": "text/x-python",
   "name": "python",
   "nbconvert_exporter": "python",
   "pygments_lexer": "ipython3",
   "version": "3.11.3"
  },
  "orig_nbformat": 4
 },
 "nbformat": 4,
 "nbformat_minor": 2
}
